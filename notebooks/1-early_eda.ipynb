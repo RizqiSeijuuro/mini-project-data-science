{
 "cells": [
  {
   "cell_type": "code",
   "execution_count": null,
   "metadata": {},
   "outputs": [],
   "source": [
    "import pandas as pd\n",
    "import numpy as np\n",
    "import matplotlib.pyplot as plt\n",
    "import seaborn as sns"
   ]
  },
  {
   "cell_type": "code",
   "execution_count": null,
   "metadata": {},
   "outputs": [],
   "source": [
    "data_alert_bogor = pd.read_csv('../data/raw/aggregate_alerts_Kota Bogor.csv')\n",
    "data_med_irr_bogor = pd.read_csv('../data/raw/aggregate_median_irregularities_Kota Bogor.csv')\n",
    "data_med_jam_bogor = pd.read_csv('../data/raw/aggregate_median_jams_Kota Bogor.csv')"
   ]
  },
  {
   "cell_type": "code",
   "execution_count": 9,
   "metadata": {},
   "outputs": [
    {
     "name": "stdout",
     "output_type": "stream",
     "text": [
      "<class 'pandas.core.frame.DataFrame'>\n",
      "RangeIndex: 9762 entries, 0 to 9761\n",
      "Data columns (total 9 columns):\n",
      " #   Column                     Non-Null Count  Dtype  \n",
      "---  ------                     --------------  -----  \n",
      " 0   id                         9762 non-null   int64  \n",
      " 1   time                       9762 non-null   object \n",
      " 2   kemendagri_kabupaten_kode  9762 non-null   float64\n",
      " 3   kemendagri_kabupaten_nama  9762 non-null   object \n",
      " 4   street                     8827 non-null   object \n",
      " 5   type                       9762 non-null   object \n",
      " 6   avg_location               9762 non-null   object \n",
      " 7   total_records              9762 non-null   int64  \n",
      " 8   date                       9762 non-null   object \n",
      "dtypes: float64(1), int64(2), object(6)\n",
      "memory usage: 686.5+ KB\n"
     ]
    }
   ],
   "source": [
    "data_alert_bogor.info()"
   ]
  }
 ],
 "metadata": {
  "kernelspec": {
   "display_name": "venv",
   "language": "python",
   "name": "python3"
  },
  "language_info": {
   "codemirror_mode": {
    "name": "ipython",
    "version": 3
   },
   "file_extension": ".py",
   "mimetype": "text/x-python",
   "name": "python",
   "nbconvert_exporter": "python",
   "pygments_lexer": "ipython3",
   "version": "3.9.13"
  },
  "orig_nbformat": 4,
  "vscode": {
   "interpreter": {
    "hash": "69626ff3dc331d3587ca5dbbbe87ba4d04deba490ced5feea8fa44832b45d87e"
   }
  }
 },
 "nbformat": 4,
 "nbformat_minor": 2
}
