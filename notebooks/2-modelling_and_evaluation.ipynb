{
 "cells": [
  {
   "attachments": {},
   "cell_type": "markdown",
   "metadata": {},
   "source": [
    "# 2. Modelling & Evaluation"
   ]
  },
  {
   "attachments": {},
   "cell_type": "markdown",
   "metadata": {},
   "source": [
    "## 2.1 Import"
   ]
  },
  {
   "cell_type": "code",
   "execution_count": 14,
   "metadata": {},
   "outputs": [],
   "source": [
    "import numpy as np\n",
    "import pandas as pd\n",
    "import seaborn as sns\n",
    "import matplotlib.pyplot as plt\n",
    "import math\n",
    "import time\n",
    "\n",
    "from sklearn.model_selection import KFold, RepeatedKFold, GridSearchCV, train_test_split, cross_val_score\n",
    "from sklearn.metrics import r2_score, mean_absolute_error, mean_squared_error, mean_absolute_percentage_error\n",
    "\n",
    "from yellowbrick.target import ClassBalance\n",
    "\n",
    "from imblearn.over_sampling import SMOTE"
   ]
  },
  {
   "cell_type": "code",
   "execution_count": 15,
   "metadata": {},
   "outputs": [],
   "source": [
    "data_tf_outlier = pd.read_csv(\"../data/processed/data_tf_outlier.csv\")"
   ]
  },
  {
   "attachments": {},
   "cell_type": "markdown",
   "metadata": {},
   "source": [
    "## 2.2 Split Training & Testing"
   ]
  },
  {
   "cell_type": "code",
   "execution_count": 16,
   "metadata": {},
   "outputs": [],
   "source": [
    "target = \"level\"\n",
    "features = [i for i in data_tf_outlier.columns if i not in [target, \"geometry\"]] #store all features name \n",
    "\n",
    "y = data_tf_outlier[target]\n",
    "X = data_tf_outlier[features]"
   ]
  },
  {
   "cell_type": "code",
   "execution_count": 17,
   "metadata": {},
   "outputs": [],
   "source": [
    "# Split train and test dataset\n",
    "X_train, X_test, y_train, y_test = train_test_split(X, y, test_size = 0.4, random_state = 42)"
   ]
  },
  {
   "cell_type": "code",
   "execution_count": 18,
   "metadata": {},
   "outputs": [
    {
     "name": "stdout",
     "output_type": "stream",
     "text": [
      "Original dataset : (100529, 8) (100529,)\n",
      "Training dataset : (60317, 8) (60317,)\n",
      "Testing dataset  : (40212, 8)  (40212,)\n"
     ]
    }
   ],
   "source": [
    "# Dataset with outliers\n",
    "print(\"Original dataset :\", X.shape, y.shape)\n",
    "print(\"Training dataset :\", X_train.shape, y_train.shape)\n",
    "print(\"Testing dataset  :\", X_test.shape,\"\", y_test.shape)"
   ]
  },
  {
   "attachments": {},
   "cell_type": "markdown",
   "metadata": {},
   "source": [
    "## 2.3 Create Function"
   ]
  },
  {
   "cell_type": "code",
   "execution_count": 19,
   "metadata": {},
   "outputs": [],
   "source": [
    "# Change font size for ticks\n",
    "def bigger_ticks_font_size(ax):\n",
    "    ax.tick_params(axis = \"x\", labelsize = 13)\n",
    "    ax.tick_params(axis = \"y\", labelsize = 13)\n",
    "\n",
    "# Change font size for labels\n",
    "def bigger_label_font_size(ax, xlabel_name, ylabel_name):\n",
    "    ax.set_xlabel(xlabel_name, fontsize = 16)\n",
    "    ax.set_ylabel(ylabel_name, fontsize = 16)\n",
    "\n",
    "# Create a new color palette consisted of the extracted hex codes from Set2 palette and other additional colors\n",
    "palette = [\"#fc8d62\", \"#ffd92f\", \"#e5c494\", \"#b3b3b3\", \"#66c2a5\", \"#96b9d0\", \"#8da0cb\", \"#ce94bc\", \"#eba7ac\", \"#f5ae52\"]"
   ]
  },
  {
   "cell_type": "code",
   "execution_count": 20,
   "metadata": {},
   "outputs": [],
   "source": [
    "# Function to do prediction for each training and testing test\n",
    "def PredictData(model, X_train, X_test):\n",
    "    return {\n",
    "        \"y_train\": model.predict(X_train),  # Prediction with training dataset\n",
    "        \"y_test\": model.predict(X_test),\n",
    "    }"
   ]
  },
  {
   "cell_type": "code",
   "execution_count": 21,
   "metadata": {},
   "outputs": [],
   "source": [
    "# Function to evaluate model \n",
    "def EvaluateModel(y_test, y_pred):\n",
    "    mae = mean_absolute_error(y_test, y_pred)\n",
    "    mse = mean_squared_error(y_test, y_pred)\n",
    "    rmse = mean_squared_error(y_test, y_pred, squared = False)\n",
    "    mape = mean_absolute_percentage_error(y_test, y_pred)\n",
    "    nrmse = rmse/np.std(y_pred)\n",
    "    r2 = r2_score(y_test, y_pred)\n",
    "\n",
    "    return {\n",
    "        \"MAE\": mae,\n",
    "        \"MSE\": mse,\n",
    "        \"RMSE\": rmse,\n",
    "        \"MAPE\": mape,\n",
    "        \"NRMSE\": nrmse,\n",
    "        \"R2_Score\": r2,\n",
    "    }"
   ]
  },
  {
   "cell_type": "code",
   "execution_count": 22,
   "metadata": {},
   "outputs": [],
   "source": [
    "# Evaluation Metric Comparison for different Regression Models\n",
    "def PlotMetric (eval_train, eval_test, metric, idx, top_result, model_title, figsize, legend_coor, float_limit):\n",
    "\n",
    "    fig, ax = plt.subplots(figsize = figsize)\n",
    "    # Store evaluation result for each training and testing set\n",
    "    eval_train = eval_train[metric]\n",
    "    eval_test  = eval_test[metric]\n",
    "\n",
    "    # If it's R2_Score sort with the highest value first, if not (which means it's error rate) sort with the lowest value first\n",
    "    ascending_val       = np.where(metric == \"R2_Score\", False, True)\n",
    "    eval_train_sorted   = eval_train.sort_values(ascending = bool(ascending_val))\n",
    "    eval_test_sorted    = eval_test.sort_values(ascending = bool(ascending_val))\n",
    "    \n",
    "    # Default value for lineweight, dot size, and fontweight\n",
    "    lw_train    = np.full((len(eval_train)), 1)\n",
    "    lw_test     = np.full((len(eval_train)), 1)\n",
    "    size_train  = np.full((len(eval_train)), 50)\n",
    "    size_test   = np.full((len(eval_train)), 50)  \n",
    "    fw_train    = [\"normal\"]*len(eval_train)\n",
    "    fw_test     = [\"normal\"]*len(eval_train)\n",
    "\n",
    "    # Make linewidth, dot size, and fontweight stand out for 3 top metric scores (lowest error/highest performance)\n",
    "    for x in range(len(eval_train)):\n",
    "        for n in range(top_result):\n",
    "            if(eval_train[x] == eval_train_sorted[n]): #If value is the best score(at n-th index of sorted values)\n",
    "                lw_train[x] = 3; size_train[x] = 160; fw_train[x] = \"semibold\"\n",
    "            if(eval_test[x] == eval_test_sorted[n]):\n",
    "                lw_test[x] = 3; size_test[x] = 160; fw_test[x] = \"semibold\"\n",
    "\n",
    "    # Function to keep the line and dot inside the plot if the score is <0 or >100 \n",
    "    def FindXCoor(eval_data):\n",
    "        return np.where(((eval_data.values*100) > 100), 1.03,\n",
    "               np.where(((eval_data.values*100) < 0), 0, eval_data.values))\n",
    "    # Store the custom x coordinates for each dataset           \n",
    "    x_coor_test = FindXCoor(eval_test)\n",
    "    x_coor_train = FindXCoor(eval_train)    \n",
    "\n",
    "    # Plot horizontal lines\n",
    "    plt.hlines(y = np.arange(len(eval_test.index))+0.2, xmin = 0, xmax = x_coor_test, color = palette[0], alpha = 0.5, linewidth = lw_test)\n",
    "    plt.hlines(y = np.arange(len(eval_train.index))-0.2, xmin = 0, xmax = x_coor_train, color = palette[5], alpha = 0.5, linewidth = lw_train)\n",
    "\n",
    "    # Plot dots   \n",
    "    ax.scatter(x = x_coor_test, y = np.arange(len(eval_test.index))+0.2, color = palette[0], s = size_test, alpha = 1, label = \"Test Data\")\n",
    "    ax.scatter(x = x_coor_train, y = np.arange(len(eval_test.index))-0.2, color = palette[5], s = size_train, alpha = 1, label = \"Training Data\")\n",
    "\n",
    "    # Plot text (percentage)\n",
    "    for i, v in enumerate(eval_test):\n",
    "        plt.text(x_coor_test[i] + 0.05, i+0.15, str(\"{:.{}f}%\".format(v*100, float_limit)), color=\"black\", fontsize = 12, fontweight = fw_test[i])\n",
    "    for i, v in enumerate(eval_train):\n",
    "        plt.text(x_coor_train[i] +0.05, i-0.25, str(\"{:.{}f}%\".format(v*100, float_limit)), color=\"black\", fontsize = 12, fontweight = fw_train[i])\n",
    "    \n",
    "    ax.set_yticks(np.arange(len(eval_test.index)))\n",
    "    ax.set_yticklabels(np.array(idx))\n",
    "    ax.set_xlim([0, 1]) # Set x-axis limit from 0 to 1\n",
    "    ax.set_title(\"{} for {}\".format(metric, model_title), fontsize = 20)\n",
    "    bigger_ticks_font_size(ax)\n",
    "    bigger_label_font_size(ax, metric, None)\n",
    "    handles, labels = ax.get_legend_handles_labels() # Get legend handle for figure (so it can be located outside the plot)\n",
    "    fig.legend(handles, labels, bbox_to_anchor = legend_coor, bbox_transform = ax.transAxes, title = \"Dataset\") # Set Legend \n",
    "    plt.show()"
   ]
  },
  {
   "cell_type": "code",
   "execution_count": 23,
   "metadata": {},
   "outputs": [],
   "source": [
    "def ScaleData (scaler, X_train, X_test, y_train, y_test, col_names):\n",
    "    \n",
    "    # Standardize the features \n",
    "    X_train = scaler.fit_transform(X_train)\n",
    "    X_train = pd.DataFrame(X_train, columns= col_names)\n",
    "    X_test = scaler.transform(X_test)\n",
    "    X_test = pd.DataFrame(X_test, columns= col_names)\n",
    "\n",
    "    # Standardize the target\n",
    "    y_train = scaler.fit_transform(y_train.values.reshape(-1,1)) # Reshape it into 2D array so it can be processed\n",
    "    y_test  = scaler.transform(y_test.values.reshape(-1,1))\n",
    "\n",
    "    dataset = {\"X_train\" : X_train,\n",
    "               \"X_test\"  : X_test,\n",
    "               \"y_train\" : y_train,\n",
    "               \"y_test\"  : y_test}\n",
    "\n",
    "    return dataset"
   ]
  },
  {
   "cell_type": "code",
   "execution_count": 24,
   "metadata": {},
   "outputs": [],
   "source": [
    "def DescribeNumpyArray(arr):\n",
    "    # measures of central tendency\n",
    "    mean = np.mean(arr)\n",
    "    median = np.median(arr)\n",
    "    \n",
    "    # measures of dispersion\n",
    "    min = np.amin(arr)\n",
    "    max = np.amax(arr)\n",
    "    range = np.ptp(arr)\n",
    "    variance = np.var(arr)\n",
    "    sd = np.std(arr)\n",
    "    \n",
    "    print(\"Descriptive analysis\")\n",
    "    print(\"Array =\", arr)\n",
    "    print(\"____________________________\")\n",
    "    print(\"Measures of Central Tendency\")\n",
    "    print(\"Mean =\", mean)\n",
    "    print(\"Median =\", median)\n",
    "    print(\"____________________________\")\n",
    "    print(\"Measures of Dispersion\")\n",
    "    print(\"Minimum =\", min)\n",
    "    print(\"Maximum =\", max)\n",
    "    print(\"Range =\", range)\n",
    "    print(\"Variance =\", variance)\n",
    "    print(\"Standard Deviation =\", sd)"
   ]
  },
  {
   "attachments": {},
   "cell_type": "markdown",
   "metadata": {},
   "source": [
    "## 2.4 Preparation into Modelling"
   ]
  },
  {
   "cell_type": "code",
   "execution_count": 25,
   "metadata": {},
   "outputs": [
    {
     "data": {
      "image/png": "[encoded data removed]",
      "text/plain": [
       "<Figure size 800x550 with 1 Axes>"
      ]
     },
     "metadata": {},
     "output_type": "display_data"
    },
    {
     "data": {
      "text/plain": [
       "<AxesSubplot: title={'center': 'Class Balance for 100,529 Instances'}, ylabel='support'>"
      ]
     },
     "execution_count": 25,
     "metadata": {},
     "output_type": "execute_result"
    }
   ],
   "source": [
    "target_proportion = ClassBalance()\n",
    "target_proportion.fit(y)\n",
    "target_proportion.show()"
   ]
  },
  {
   "cell_type": "code",
   "execution_count": 26,
   "metadata": {},
   "outputs": [],
   "source": [
    "sm = SMOTE(random_state=1)\n",
    "X_train_resampled, y_train_resampled = sm.fit_resample(X_train, y_train)"
   ]
  },
  {
   "cell_type": "code",
   "execution_count": 27,
   "metadata": {},
   "outputs": [
    {
     "data": {
      "image/png": "[encoded data removed]",
      "text/plain": [
       "<Figure size 800x550 with 1 Axes>"
      ]
     },
     "metadata": {},
     "output_type": "display_data"
    },
    {
     "data": {
      "text/plain": [
       "<AxesSubplot: title={'center': 'Class Balance for 106,365 Instances'}, ylabel='support'>"
      ]
     },
     "execution_count": 27,
     "metadata": {},
     "output_type": "execute_result"
    }
   ],
   "source": [
    "target_proportion = ClassBalance()\n",
    "target_proportion.fit(y_train_resampled)\n",
    "target_proportion.show()"
   ]
  }
 ],
 "metadata": {
  "kernelspec": {
   "display_name": "venv",
   "language": "python",
   "name": "python3"
  },
  "language_info": {
   "codemirror_mode": {
    "name": "ipython",
    "version": 3
   },
   "file_extension": ".py",
   "mimetype": "text/x-python",
   "name": "python",
   "nbconvert_exporter": "python",
   "pygments_lexer": "ipython3",
   "version": "3.9.13"
  },
  "orig_nbformat": 4
 },
 "nbformat": 4,
 "nbformat_minor": 2
}
